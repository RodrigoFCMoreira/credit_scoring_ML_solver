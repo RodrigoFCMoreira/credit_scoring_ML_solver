{
 "cells": [
  {
   "cell_type": "code",
   "execution_count": 2,
   "metadata": {},
   "outputs": [
    {
     "name": "stdout",
     "output_type": "stream",
     "text": [
      "(CVXPY) Feb 09 07:37:21 PM: Encountered unexpected exception importing solver GLOP:\n",
      "RuntimeError('Unrecognized new version of ortools (9.11.4210). Expected < 9.10.0. Please open a feature request on cvxpy to enable support for this version.')\n",
      "(CVXPY) Feb 09 07:37:21 PM: Encountered unexpected exception importing solver PDLP:\n",
      "RuntimeError('Unrecognized new version of ortools (9.11.4210). Expected < 9.10.0. Please open a feature request on cvxpy to enable support for this version.')\n"
     ]
    }
   ],
   "source": [
    "import pandas as pd\n",
    "from funcoes import remover_missings,escolher_estrategia_imputacao,selecao_variaveis,perfil_base,aplicar_imputacao_treino,aplicar_imputacao_teste\n",
    "import matplotlib.pyplot as plt\n",
    "import numpy as np\n",
    "from statsmodels.stats.outliers_influence import variance_inflation_factor\n",
    "from typing import List, Tuple\n",
    "import joblib\n",
    "import pycaret\n",
    "from typing import Dict, Tuple"
   ]
  },
  {
   "cell_type": "code",
   "execution_count": 3,
   "metadata": {},
   "outputs": [
    {
     "data": {
      "text/plain": [
       "(6568, 81)"
      ]
     },
     "execution_count": 3,
     "metadata": {},
     "output_type": "execute_result"
    }
   ],
   "source": [
    "train = pd.read_csv(\"train.csv\",sep=\",\")\n",
    "train.shape"
   ]
  },
  {
   "cell_type": "code",
   "execution_count": 4,
   "metadata": {},
   "outputs": [
    {
     "name": "stdout",
     "output_type": "stream",
     "text": [
      "Colunas removidas(38): ['VAR_10', 'VAR_12', 'VAR_14', 'VAR_16', 'VAR_18', 'VAR_21', 'VAR_23', 'VAR_26', 'VAR_27', 'VAR_29', 'VAR_31', 'VAR_36', 'VAR_37', 'VAR_41', 'VAR_42', 'VAR_43', 'VAR_46', 'VAR_47', 'VAR_48', 'VAR_49', 'VAR_50', 'VAR_51', 'VAR_55', 'VAR_56', 'VAR_61', 'VAR_62', 'VAR_63', 'VAR_66', 'VAR_67', 'VAR_68', 'VAR_69', 'VAR_70', 'VAR_71', 'VAR_73', 'VAR_74', 'VAR_75', 'VAR_77', 'VAR_78']\n"
     ]
    }
   ],
   "source": [
    "#Remove colunas que possuem um percentual de valores ausentes (missings) maior ou igual ao valor definido em perc_miss.\n",
    "#Definimos que variáveis com 50% de valores ausentes serão descartadas.\n",
    "#Modelos de machine learning precisam de um conjunto de dados completo e representativo. \n",
    "#Se muitas variáveis tiverem altos níveis de missings, o modelo pode:\n",
    "    #Perder generalização ao imputar valores incorretos. \n",
    "    #Diminuir a capacidade preditiva, pois pode aprender padrões errados.\n",
    "\n",
    "treino_pos_miss = remover_missings(train, perc_miss= 50)"
   ]
  },
  {
   "cell_type": "code",
   "execution_count": 5,
   "metadata": {},
   "outputs": [],
   "source": [
    "#Estratégia \n",
    "#Média: Se a coluna for numérica, sem outliers e missing < 5%.\n",
    "#Mediana: Se houver outliers e missing entre 5%-20%.\n",
    "#Mediana: Para outros casos de dados numéricos. (ex: sem outlier e missing alto etc..)\n",
    "\n",
    "#Utilizar modelos para imputação (criar um modelo que faça previsões dos valores faltantes) aumenta a complexidade, deploy e avaliação.\n",
    "regra_imputacao = escolher_estrategia_imputacao(treino_pos_miss)"
   ]
  },
  {
   "cell_type": "code",
   "execution_count": 6,
   "metadata": {},
   "outputs": [],
   "source": [
    "#Não vamos salvar as regras imputação pois esse modelo é apenas para auxiliar na seleção de variáveis\n",
    "df_imputado, regra_imputacao, dict_mediana, dict_media = aplicar_imputacao_treino(treino_pos_miss,regra_imputacao)"
   ]
  },
  {
   "cell_type": "code",
   "execution_count": 7,
   "metadata": {},
   "outputs": [
    {
     "name": "stdout",
     "output_type": "stream",
     "text": [
      "[LightGBM] [Info] Number of positive: 1297, number of negative: 3300\n",
      "[LightGBM] [Info] Auto-choosing col-wise multi-threading, the overhead of testing was 0.000543 seconds.\n",
      "You can set `force_col_wise=true` to remove the overhead.\n",
      "[LightGBM] [Info] Total Bins 6688\n",
      "[LightGBM] [Info] Number of data points in the train set: 4597, number of used features: 40\n",
      "[LightGBM] [Info] [binary:BoostFromScore]: pavg=0.282141 -> initscore=-0.933869\n",
      "[LightGBM] [Info] Start training from score -0.933869\n",
      "['VAR_32', 'VAR_38', 'VAR_60', 'VAR_44', 'VAR_45', 'VAR_58', 'VAR_7', 'VAR_15', 'VAR_33', 'VAR_4', 'VAR_17', 'VAR_2', 'VAR_8', 'VAR_64', 'VAR_52', 'VAR_72', 'VAR_28', 'VAR_35', 'VAR_20', 'VAR_11', 'VAR_34', 'VAR_9', 'VAR_59', 'VAR_65', 'VAR_1', 'VAR_30', 'VAR_39', 'VAR_25', 'VAR_6', 'VAR_5', 'VAR_13', 'VAR_57', 'VAR_53', 'VAR_3', 'VAR_22', 'VAR_24', 'VAR_54', 'VAR_76', 'VAR_19', 'VAR_40']\n"
     ]
    }
   ],
   "source": [
    "#Selecionando vari\n",
    "\n",
    "# Classic (RFE): Remove variáveis menos importantes de forma recursiva.  \n",
    "# Univariate: Seleciona variáveis com testes estatísticos (ANOVA/Qui-quadrado). Anova compara médias de variáveis e verifica se são diferentes. Qeui para variáveis categóricas\n",
    "# Sequential (SFS): Adiciona ou remove variáveis uma a uma para otimizar o modelo.\n",
    "#Método de combinação das variáveis selecionadas.\n",
    "#intersection: Mantém apenas as variáveis escolhidas por todos os métodos.\n",
    "#union: Mantém todas as variáveis selecionadas por pelo menos um método.\n",
    "#voting: Mantém variáveis selecionadas por pelo menos 2 dos métodos escolhidos.\n",
    "\n",
    "variaveis_selecionadas = selecao_variaveis(\n",
    "    data=df_imputado.drop(['id','safra'],axis=1), \n",
    "    target='y', \n",
    "    methods=['classic', 'univariate', 'sequential'], \n",
    "    selection_rule='union'\n",
    ")\n",
    "print(variaveis_selecionadas)"
   ]
  },
  {
   "cell_type": "code",
   "execution_count": 13,
   "metadata": {},
   "outputs": [],
   "source": [
    "#Agora vamos retornar a base de train original e Salvar a base de train_selecionada (após seleção de variáveis)\n",
    "train_selecionada = df_imputado[['id','safra','y']+variaveis_selecionadas]"
   ]
  },
  {
   "cell_type": "code",
   "execution_count": 14,
   "metadata": {},
   "outputs": [
    {
     "data": {
      "text/html": [
       "<div>\n",
       "<style scoped>\n",
       "    .dataframe tbody tr th:only-of-type {\n",
       "        vertical-align: middle;\n",
       "    }\n",
       "\n",
       "    .dataframe tbody tr th {\n",
       "        vertical-align: top;\n",
       "    }\n",
       "\n",
       "    .dataframe thead th {\n",
       "        text-align: right;\n",
       "    }\n",
       "</style>\n",
       "<table border=\"1\" class=\"dataframe\">\n",
       "  <thead>\n",
       "    <tr style=\"text-align: right;\">\n",
       "      <th></th>\n",
       "      <th>id</th>\n",
       "      <th>safra</th>\n",
       "      <th>y</th>\n",
       "      <th>VAR_32</th>\n",
       "      <th>VAR_38</th>\n",
       "      <th>VAR_60</th>\n",
       "      <th>VAR_44</th>\n",
       "      <th>VAR_45</th>\n",
       "      <th>VAR_58</th>\n",
       "      <th>VAR_7</th>\n",
       "      <th>...</th>\n",
       "      <th>VAR_13</th>\n",
       "      <th>VAR_57</th>\n",
       "      <th>VAR_53</th>\n",
       "      <th>VAR_3</th>\n",
       "      <th>VAR_22</th>\n",
       "      <th>VAR_24</th>\n",
       "      <th>VAR_54</th>\n",
       "      <th>VAR_76</th>\n",
       "      <th>VAR_19</th>\n",
       "      <th>VAR_40</th>\n",
       "    </tr>\n",
       "  </thead>\n",
       "  <tbody>\n",
       "    <tr>\n",
       "      <th>0</th>\n",
       "      <td>601</td>\n",
       "      <td>201409</td>\n",
       "      <td>1</td>\n",
       "      <td>0.057198</td>\n",
       "      <td>252.00</td>\n",
       "      <td>-0.354108</td>\n",
       "      <td>0.0</td>\n",
       "      <td>298.535</td>\n",
       "      <td>262.0</td>\n",
       "      <td>36.00</td>\n",
       "      <td>...</td>\n",
       "      <td>67.99</td>\n",
       "      <td>32</td>\n",
       "      <td>1565.92</td>\n",
       "      <td>0.0</td>\n",
       "      <td>0.0</td>\n",
       "      <td>305.92</td>\n",
       "      <td>800.00</td>\n",
       "      <td>312.85</td>\n",
       "      <td>0.0</td>\n",
       "      <td>0.0</td>\n",
       "    </tr>\n",
       "    <tr>\n",
       "      <th>1</th>\n",
       "      <td>4320</td>\n",
       "      <td>201409</td>\n",
       "      <td>1</td>\n",
       "      <td>0.090634</td>\n",
       "      <td>420.81</td>\n",
       "      <td>0.079926</td>\n",
       "      <td>0.0</td>\n",
       "      <td>298.535</td>\n",
       "      <td>399.0</td>\n",
       "      <td>84.16</td>\n",
       "      <td>...</td>\n",
       "      <td>67.99</td>\n",
       "      <td>47</td>\n",
       "      <td>1928.10</td>\n",
       "      <td>1.0</td>\n",
       "      <td>0.0</td>\n",
       "      <td>584.92</td>\n",
       "      <td>2000.00</td>\n",
       "      <td>312.85</td>\n",
       "      <td>0.0</td>\n",
       "      <td>0.0</td>\n",
       "    </tr>\n",
       "    <tr>\n",
       "      <th>2</th>\n",
       "      <td>8725</td>\n",
       "      <td>201406</td>\n",
       "      <td>1</td>\n",
       "      <td>0.057198</td>\n",
       "      <td>176.19</td>\n",
       "      <td>-0.411787</td>\n",
       "      <td>0.0</td>\n",
       "      <td>298.535</td>\n",
       "      <td>262.0</td>\n",
       "      <td>25.17</td>\n",
       "      <td>...</td>\n",
       "      <td>67.99</td>\n",
       "      <td>27</td>\n",
       "      <td>500.00</td>\n",
       "      <td>1.0</td>\n",
       "      <td>0.0</td>\n",
       "      <td>305.92</td>\n",
       "      <td>500.00</td>\n",
       "      <td>312.85</td>\n",
       "      <td>0.0</td>\n",
       "      <td>0.0</td>\n",
       "    </tr>\n",
       "    <tr>\n",
       "      <th>3</th>\n",
       "      <td>8977</td>\n",
       "      <td>201402</td>\n",
       "      <td>0</td>\n",
       "      <td>0.133833</td>\n",
       "      <td>224.30</td>\n",
       "      <td>0.079926</td>\n",
       "      <td>11.0</td>\n",
       "      <td>159.950</td>\n",
       "      <td>267.0</td>\n",
       "      <td>53.98</td>\n",
       "      <td>...</td>\n",
       "      <td>59.97</td>\n",
       "      <td>49</td>\n",
       "      <td>2000.00</td>\n",
       "      <td>0.0</td>\n",
       "      <td>50.0</td>\n",
       "      <td>306.02</td>\n",
       "      <td>1202.14</td>\n",
       "      <td>377.95</td>\n",
       "      <td>45.0</td>\n",
       "      <td>11.0</td>\n",
       "    </tr>\n",
       "    <tr>\n",
       "      <th>4</th>\n",
       "      <td>3547</td>\n",
       "      <td>201402</td>\n",
       "      <td>0</td>\n",
       "      <td>0.090634</td>\n",
       "      <td>127.76</td>\n",
       "      <td>-0.411787</td>\n",
       "      <td>0.0</td>\n",
       "      <td>298.535</td>\n",
       "      <td>200.0</td>\n",
       "      <td>127.76</td>\n",
       "      <td>...</td>\n",
       "      <td>67.99</td>\n",
       "      <td>28</td>\n",
       "      <td>600.00</td>\n",
       "      <td>0.0</td>\n",
       "      <td>0.0</td>\n",
       "      <td>200.55</td>\n",
       "      <td>1202.14</td>\n",
       "      <td>312.85</td>\n",
       "      <td>0.0</td>\n",
       "      <td>0.0</td>\n",
       "    </tr>\n",
       "  </tbody>\n",
       "</table>\n",
       "<p>5 rows × 43 columns</p>\n",
       "</div>"
      ],
      "text/plain": [
       "     id   safra  y    VAR_32  VAR_38    VAR_60  VAR_44   VAR_45  VAR_58  \\\n",
       "0   601  201409  1  0.057198  252.00 -0.354108     0.0  298.535   262.0   \n",
       "1  4320  201409  1  0.090634  420.81  0.079926     0.0  298.535   399.0   \n",
       "2  8725  201406  1  0.057198  176.19 -0.411787     0.0  298.535   262.0   \n",
       "3  8977  201402  0  0.133833  224.30  0.079926    11.0  159.950   267.0   \n",
       "4  3547  201402  0  0.090634  127.76 -0.411787     0.0  298.535   200.0   \n",
       "\n",
       "    VAR_7  ...  VAR_13  VAR_57   VAR_53  VAR_3  VAR_22  VAR_24   VAR_54  \\\n",
       "0   36.00  ...   67.99      32  1565.92    0.0     0.0  305.92   800.00   \n",
       "1   84.16  ...   67.99      47  1928.10    1.0     0.0  584.92  2000.00   \n",
       "2   25.17  ...   67.99      27   500.00    1.0     0.0  305.92   500.00   \n",
       "3   53.98  ...   59.97      49  2000.00    0.0    50.0  306.02  1202.14   \n",
       "4  127.76  ...   67.99      28   600.00    0.0     0.0  200.55  1202.14   \n",
       "\n",
       "   VAR_76  VAR_19  VAR_40  \n",
       "0  312.85     0.0     0.0  \n",
       "1  312.85     0.0     0.0  \n",
       "2  312.85     0.0     0.0  \n",
       "3  377.95    45.0    11.0  \n",
       "4  312.85     0.0     0.0  \n",
       "\n",
       "[5 rows x 43 columns]"
      ]
     },
     "execution_count": 14,
     "metadata": {},
     "output_type": "execute_result"
    }
   ],
   "source": [
    "train_selecionada.head()"
   ]
  },
  {
   "cell_type": "code",
   "execution_count": 15,
   "metadata": {},
   "outputs": [
    {
     "data": {
      "text/plain": [
       "(6568, 43)"
      ]
     },
     "execution_count": 15,
     "metadata": {},
     "output_type": "execute_result"
    }
   ],
   "source": [
    "train_selecionada.shape"
   ]
  },
  {
   "cell_type": "code",
   "execution_count": 16,
   "metadata": {},
   "outputs": [
    {
     "name": "stdout",
     "output_type": "stream",
     "text": [
      "Calcula métricas básicas do perfil da base de dados.\n",
      "Shape da base: Essa base possui 6568 linhas e 43 colunas\n",
      "Tipos de variáveis: {dtype('float64'): 37, dtype('int64'): 6}\n",
      "IDs únicos: 6568\n",
      "Taxa de maus (bad rate): Bons: 4715(71.8 %), Maus: 1853 (28.2%)\n",
      "Volumetria das safras: {201401: 702, 201402: 709, 201403: 701, 201404: 754, 201405: 772, 201406: 715, 201407: 777, 201408: 727, 201409: 711}\n",
      "\n",
      "\n"
     ]
    }
   ],
   "source": [
    "#Verificando nossa base após seleção de variáveis\n",
    "resultado = perfil_base(train_selecionada, id_col='id', target_col='y', safra_col='safra')"
   ]
  },
  {
   "cell_type": "code",
   "execution_count": 17,
   "metadata": {},
   "outputs": [],
   "source": [
    "#Salvando a base de treino_selecionada\n",
    "train_selecionada.to_csv(\"train_selecionada.csv\",sep=\",\",index=False,header=True)"
   ]
  },
  {
   "cell_type": "code",
   "execution_count": null,
   "metadata": {},
   "outputs": [],
   "source": []
  },
  {
   "cell_type": "code",
   "execution_count": null,
   "metadata": {},
   "outputs": [],
   "source": []
  }
 ],
 "metadata": {
  "kernelspec": {
   "display_name": "chalenge_pic_pay_env",
   "language": "python",
   "name": "python3"
  },
  "language_info": {
   "codemirror_mode": {
    "name": "ipython",
    "version": 3
   },
   "file_extension": ".py",
   "mimetype": "text/x-python",
   "name": "python",
   "nbconvert_exporter": "python",
   "pygments_lexer": "ipython3",
   "version": "3.11.9"
  }
 },
 "nbformat": 4,
 "nbformat_minor": 2
}
