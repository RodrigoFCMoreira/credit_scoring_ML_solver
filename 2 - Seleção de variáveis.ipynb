{
 "cells": [
  {
   "cell_type": "code",
   "execution_count": 45,
   "metadata": {},
   "outputs": [],
   "source": [
    "import pandas as pd\n",
    "from funcoes import remover_missings,escolher_estrategia_imputacao,selecao_variaveis,perfil_base,aplicar_imputacao_treino,aplicar_imputacao_teste\n",
    "import matplotlib.pyplot as plt\n",
    "import numpy as np\n",
    "from statsmodels.stats.outliers_influence import variance_inflation_factor\n",
    "from typing import List, Tuple\n",
    "import joblib\n",
    "import pycaret\n",
    "from typing import Dict, Tuple"
   ]
  },
  {
   "cell_type": "code",
   "execution_count": 46,
   "metadata": {},
   "outputs": [
    {
     "data": {
      "text/plain": [
       "(7315, 81)"
      ]
     },
     "execution_count": 46,
     "metadata": {},
     "output_type": "execute_result"
    }
   ],
   "source": [
    "train = pd.read_csv(\"train.csv\",sep=\",\")\n",
    "train.shape"
   ]
  },
  {
   "cell_type": "code",
   "execution_count": 47,
   "metadata": {},
   "outputs": [
    {
     "name": "stdout",
     "output_type": "stream",
     "text": [
      "Colunas removidas(38): ['VAR_10', 'VAR_12', 'VAR_14', 'VAR_16', 'VAR_18', 'VAR_21', 'VAR_23', 'VAR_26', 'VAR_27', 'VAR_29', 'VAR_31', 'VAR_36', 'VAR_37', 'VAR_41', 'VAR_42', 'VAR_43', 'VAR_46', 'VAR_47', 'VAR_48', 'VAR_49', 'VAR_50', 'VAR_51', 'VAR_55', 'VAR_56', 'VAR_61', 'VAR_62', 'VAR_63', 'VAR_66', 'VAR_67', 'VAR_68', 'VAR_69', 'VAR_70', 'VAR_71', 'VAR_73', 'VAR_74', 'VAR_75', 'VAR_77', 'VAR_78']\n"
     ]
    }
   ],
   "source": [
    "#Remove colunas que possuem um percentual de valores ausentes (missings) maior ou igual ao valor definido em perc_miss.\n",
    "#Definimos que variáveis com 50% de valores ausentes serão descartadas.\n",
    "#Modelos de machine learning precisam de um conjunto de dados completo e representativo. \n",
    "#Se muitas variáveis tiverem altos níveis de missings, o modelo pode:\n",
    "    #Perder generalização ao imputar valores incorretos. \n",
    "    #Diminuir a capacidade preditiva, pois pode aprender padrões errados.\n",
    "\n",
    "treino_pos_miss = remover_missings(train, perc_miss= 50)"
   ]
  },
  {
   "cell_type": "code",
   "execution_count": 48,
   "metadata": {},
   "outputs": [],
   "source": [
    "#Estratégia \n",
    "#Média: Se a coluna for numérica, sem outliers e missing < 5%.\n",
    "#Mediana: Se houver outliers e missing entre 5%-20%.\n",
    "#Mediana: Para outros casos de dados numéricos. (ex: sem outlier e missing alto etc..)\n",
    "\n",
    "#Utilizar modelos para imputação (criar um modelo que faça previsões dos valores faltantes) aumenta a complexidade, deploy e avaliação.\n",
    "regra_imputacao = escolher_estrategia_imputacao(treino_pos_miss)"
   ]
  },
  {
   "cell_type": "code",
   "execution_count": 49,
   "metadata": {},
   "outputs": [],
   "source": [
    "#Não vamos salvar as regras imputação pois esse modelo é apenas para auxiliar na seleção de variáveis\n",
    "df_imputado, regra_imputacao, dict_mediana, dict_media = aplicar_imputacao_treino(treino_pos_miss,regra_imputacao)"
   ]
  },
  {
   "cell_type": "code",
   "execution_count": 50,
   "metadata": {},
   "outputs": [
    {
     "name": "stdout",
     "output_type": "stream",
     "text": [
      "[LightGBM] [Info] Number of positive: 1446, number of negative: 3674\n",
      "[LightGBM] [Info] Auto-choosing col-wise multi-threading, the overhead of testing was 0.000449 seconds.\n",
      "You can set `force_col_wise=true` to remove the overhead.\n",
      "[LightGBM] [Info] Total Bins 6707\n",
      "[LightGBM] [Info] Number of data points in the train set: 5120, number of used features: 40\n",
      "[LightGBM] [Info] [binary:BoostFromScore]: pavg=0.282422 -> initscore=-0.932480\n",
      "[LightGBM] [Info] Start training from score -0.932480\n",
      "['VAR_15', 'VAR_9', 'VAR_54', 'VAR_3', 'VAR_5', 'VAR_1', 'VAR_28', 'VAR_60', 'VAR_45', 'VAR_6', 'VAR_58', 'VAR_38', 'VAR_32', 'VAR_19', 'VAR_8', 'VAR_17', 'VAR_33', 'VAR_30', 'VAR_2', 'VAR_11', 'VAR_24', 'VAR_25', 'VAR_65', 'VAR_59', 'VAR_53', 'VAR_20', 'VAR_57', 'VAR_44', 'VAR_72', 'VAR_40', 'VAR_39', 'VAR_34', 'VAR_52', 'VAR_13', 'VAR_35', 'VAR_76', 'VAR_7', 'VAR_4', 'VAR_64', 'VAR_22']\n"
     ]
    }
   ],
   "source": [
    "#Selecionando vari\n",
    "\n",
    "#classic (RFE - Recursive Feature Elimination)\n",
    "#univariate (Testes estatísticos ANOVA/qui-quadrado)\n",
    "#sequential (Sequential Feature Selection - SFS)\n",
    "#Método de combinação das variáveis selecionadas.\n",
    "#intersection: Mantém apenas as variáveis escolhidas por todos os métodos.\n",
    "#union: Mantém todas as variáveis selecionadas por pelo menos um método.\n",
    "#voting: Mantém variáveis selecionadas por pelo menos 2 dos métodos escolhidos.\n",
    "\n",
    "variaveis_selecionadas = selecao_variaveis(\n",
    "    data=df_imputado.drop(['id','safra'],axis=1), \n",
    "    target='y', \n",
    "    methods=['classic', 'univariate', 'sequential'], \n",
    "    selection_rule='union'\n",
    ")\n",
    "print(variaveis_selecionadas)"
   ]
  },
  {
   "cell_type": "code",
   "execution_count": 51,
   "metadata": {},
   "outputs": [],
   "source": [
    "#Agora vamos retornar a base de train original e Salvar a base de train_selecionada (após seleção de variáveis)\n",
    "train_selecionada = df_imputado[['id','safra','y']+variaveis_selecionadas]"
   ]
  },
  {
   "cell_type": "code",
   "execution_count": 52,
   "metadata": {},
   "outputs": [
    {
     "data": {
      "text/html": [
       "<div>\n",
       "<style scoped>\n",
       "    .dataframe tbody tr th:only-of-type {\n",
       "        vertical-align: middle;\n",
       "    }\n",
       "\n",
       "    .dataframe tbody tr th {\n",
       "        vertical-align: top;\n",
       "    }\n",
       "\n",
       "    .dataframe thead th {\n",
       "        text-align: right;\n",
       "    }\n",
       "</style>\n",
       "<table border=\"1\" class=\"dataframe\">\n",
       "  <thead>\n",
       "    <tr style=\"text-align: right;\">\n",
       "      <th></th>\n",
       "      <th>id</th>\n",
       "      <th>safra</th>\n",
       "      <th>y</th>\n",
       "      <th>VAR_15</th>\n",
       "      <th>VAR_9</th>\n",
       "      <th>VAR_54</th>\n",
       "      <th>VAR_3</th>\n",
       "      <th>VAR_5</th>\n",
       "      <th>VAR_1</th>\n",
       "      <th>VAR_28</th>\n",
       "      <th>...</th>\n",
       "      <th>VAR_39</th>\n",
       "      <th>VAR_34</th>\n",
       "      <th>VAR_52</th>\n",
       "      <th>VAR_13</th>\n",
       "      <th>VAR_35</th>\n",
       "      <th>VAR_76</th>\n",
       "      <th>VAR_7</th>\n",
       "      <th>VAR_4</th>\n",
       "      <th>VAR_64</th>\n",
       "      <th>VAR_22</th>\n",
       "    </tr>\n",
       "  </thead>\n",
       "  <tbody>\n",
       "    <tr>\n",
       "      <th>0</th>\n",
       "      <td>7913</td>\n",
       "      <td>201405</td>\n",
       "      <td>0</td>\n",
       "      <td>80.41</td>\n",
       "      <td>700.00</td>\n",
       "      <td>700.00</td>\n",
       "      <td>0.0</td>\n",
       "      <td>73.96</td>\n",
       "      <td>0.0</td>\n",
       "      <td>0.0</td>\n",
       "      <td>...</td>\n",
       "      <td>695.0</td>\n",
       "      <td>80.96</td>\n",
       "      <td>261.72</td>\n",
       "      <td>180.82</td>\n",
       "      <td>594.09</td>\n",
       "      <td>1045.79</td>\n",
       "      <td>125.58</td>\n",
       "      <td>0.0</td>\n",
       "      <td>0</td>\n",
       "      <td>0.0</td>\n",
       "    </tr>\n",
       "    <tr>\n",
       "      <th>1</th>\n",
       "      <td>7343</td>\n",
       "      <td>201401</td>\n",
       "      <td>1</td>\n",
       "      <td>65.98</td>\n",
       "      <td>1000.00</td>\n",
       "      <td>1230.00</td>\n",
       "      <td>1.0</td>\n",
       "      <td>68.98</td>\n",
       "      <td>171.0</td>\n",
       "      <td>0.0</td>\n",
       "      <td>...</td>\n",
       "      <td>266.0</td>\n",
       "      <td>204.90</td>\n",
       "      <td>65.98</td>\n",
       "      <td>69.21</td>\n",
       "      <td>63.98</td>\n",
       "      <td>319.71</td>\n",
       "      <td>47.29</td>\n",
       "      <td>2.0</td>\n",
       "      <td>1</td>\n",
       "      <td>0.0</td>\n",
       "    </tr>\n",
       "    <tr>\n",
       "      <th>2</th>\n",
       "      <td>9046</td>\n",
       "      <td>201407</td>\n",
       "      <td>1</td>\n",
       "      <td>49.98</td>\n",
       "      <td>2209.00</td>\n",
       "      <td>2209.00</td>\n",
       "      <td>0.0</td>\n",
       "      <td>68.98</td>\n",
       "      <td>56.0</td>\n",
       "      <td>0.0</td>\n",
       "      <td>...</td>\n",
       "      <td>266.0</td>\n",
       "      <td>895.76</td>\n",
       "      <td>205.91</td>\n",
       "      <td>69.21</td>\n",
       "      <td>221.86</td>\n",
       "      <td>319.71</td>\n",
       "      <td>124.91</td>\n",
       "      <td>1.0</td>\n",
       "      <td>1</td>\n",
       "      <td>0.0</td>\n",
       "    </tr>\n",
       "    <tr>\n",
       "      <th>3</th>\n",
       "      <td>5227</td>\n",
       "      <td>201405</td>\n",
       "      <td>0</td>\n",
       "      <td>53.11</td>\n",
       "      <td>1000.00</td>\n",
       "      <td>1550.00</td>\n",
       "      <td>0.0</td>\n",
       "      <td>70.47</td>\n",
       "      <td>36.0</td>\n",
       "      <td>0.0</td>\n",
       "      <td>...</td>\n",
       "      <td>181.0</td>\n",
       "      <td>39.95</td>\n",
       "      <td>149.97</td>\n",
       "      <td>48.79</td>\n",
       "      <td>297.71</td>\n",
       "      <td>626.98</td>\n",
       "      <td>53.24</td>\n",
       "      <td>2.0</td>\n",
       "      <td>1</td>\n",
       "      <td>0.0</td>\n",
       "    </tr>\n",
       "    <tr>\n",
       "      <th>4</th>\n",
       "      <td>10491</td>\n",
       "      <td>201404</td>\n",
       "      <td>1</td>\n",
       "      <td>157.65</td>\n",
       "      <td>1479.39</td>\n",
       "      <td>1479.39</td>\n",
       "      <td>0.0</td>\n",
       "      <td>68.98</td>\n",
       "      <td>30.0</td>\n",
       "      <td>0.0</td>\n",
       "      <td>...</td>\n",
       "      <td>266.0</td>\n",
       "      <td>225.94</td>\n",
       "      <td>506.40</td>\n",
       "      <td>69.21</td>\n",
       "      <td>221.86</td>\n",
       "      <td>319.71</td>\n",
       "      <td>53.24</td>\n",
       "      <td>0.0</td>\n",
       "      <td>1</td>\n",
       "      <td>0.0</td>\n",
       "    </tr>\n",
       "  </tbody>\n",
       "</table>\n",
       "<p>5 rows × 43 columns</p>\n",
       "</div>"
      ],
      "text/plain": [
       "      id   safra  y  VAR_15    VAR_9   VAR_54  VAR_3  VAR_5  VAR_1  VAR_28  \\\n",
       "0   7913  201405  0   80.41   700.00   700.00    0.0  73.96    0.0     0.0   \n",
       "1   7343  201401  1   65.98  1000.00  1230.00    1.0  68.98  171.0     0.0   \n",
       "2   9046  201407  1   49.98  2209.00  2209.00    0.0  68.98   56.0     0.0   \n",
       "3   5227  201405  0   53.11  1000.00  1550.00    0.0  70.47   36.0     0.0   \n",
       "4  10491  201404  1  157.65  1479.39  1479.39    0.0  68.98   30.0     0.0   \n",
       "\n",
       "   ...  VAR_39  VAR_34  VAR_52  VAR_13  VAR_35   VAR_76   VAR_7  VAR_4  \\\n",
       "0  ...   695.0   80.96  261.72  180.82  594.09  1045.79  125.58    0.0   \n",
       "1  ...   266.0  204.90   65.98   69.21   63.98   319.71   47.29    2.0   \n",
       "2  ...   266.0  895.76  205.91   69.21  221.86   319.71  124.91    1.0   \n",
       "3  ...   181.0   39.95  149.97   48.79  297.71   626.98   53.24    2.0   \n",
       "4  ...   266.0  225.94  506.40   69.21  221.86   319.71   53.24    0.0   \n",
       "\n",
       "   VAR_64  VAR_22  \n",
       "0       0     0.0  \n",
       "1       1     0.0  \n",
       "2       1     0.0  \n",
       "3       1     0.0  \n",
       "4       1     0.0  \n",
       "\n",
       "[5 rows x 43 columns]"
      ]
     },
     "execution_count": 52,
     "metadata": {},
     "output_type": "execute_result"
    }
   ],
   "source": [
    "train_selecionada.head()"
   ]
  },
  {
   "cell_type": "code",
   "execution_count": 53,
   "metadata": {},
   "outputs": [
    {
     "data": {
      "text/plain": [
       "(7315, 43)"
      ]
     },
     "execution_count": 53,
     "metadata": {},
     "output_type": "execute_result"
    }
   ],
   "source": [
    "train_selecionada.shape"
   ]
  },
  {
   "cell_type": "code",
   "execution_count": 54,
   "metadata": {},
   "outputs": [
    {
     "name": "stdout",
     "output_type": "stream",
     "text": [
      "Calcula métricas básicas do perfil da base de dados.\n",
      "Shape da base: Essa base possui 7315 linhas e 43 colunas\n",
      "Tipos de variáveis: {dtype('float64'): 37, dtype('int64'): 6}\n",
      "IDs únicos: 7315\n",
      "Taxa de maus (bad rate): Bons: 5249(71.8 %), Maus: 2066 (28.2%)\n",
      "Volumetria das safras: {201401: 655, 201402: 714, 201403: 693, 201404: 768, 201405: 794, 201406: 730, 201407: 770, 201408: 737, 201409: 716, 201410: 738}\n",
      "\n",
      "\n"
     ]
    }
   ],
   "source": [
    "#Verificando nossa base após seleção de variáveis\n",
    "resultado = perfil_base(train_selecionada, id_col='id', target_col='y', safra_col='safra')"
   ]
  },
  {
   "cell_type": "code",
   "execution_count": 55,
   "metadata": {},
   "outputs": [],
   "source": [
    "#Salvando a base de treino_selecionada\n",
    "train_selecionada.to_csv(\"train_selecionada.csv\",sep=\",\",index=False,header=True)"
   ]
  },
  {
   "cell_type": "code",
   "execution_count": null,
   "metadata": {},
   "outputs": [],
   "source": []
  },
  {
   "cell_type": "code",
   "execution_count": null,
   "metadata": {},
   "outputs": [],
   "source": []
  }
 ],
 "metadata": {
  "kernelspec": {
   "display_name": "chalenge_pic_pay_env",
   "language": "python",
   "name": "python3"
  },
  "language_info": {
   "codemirror_mode": {
    "name": "ipython",
    "version": 3
   },
   "file_extension": ".py",
   "mimetype": "text/x-python",
   "name": "python",
   "nbconvert_exporter": "python",
   "pygments_lexer": "ipython3",
   "version": "3.11.9"
  }
 },
 "nbformat": 4,
 "nbformat_minor": 2
}
