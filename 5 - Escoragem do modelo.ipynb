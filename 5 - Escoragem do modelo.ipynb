{
 "cells": [
  {
   "cell_type": "code",
   "execution_count": 1,
   "metadata": {},
   "outputs": [],
   "source": [
    "#### Agora que os modelos foram treinados basta escoramos uma base compatível\n",
    "#### A base precisa conter as variáveis explicativas! "
   ]
  },
  {
   "cell_type": "code",
   "execution_count": 2,
   "metadata": {},
   "outputs": [
    {
     "name": "stdout",
     "output_type": "stream",
     "text": [
      "(CVXPY) Feb 09 08:08:26 PM: Encountered unexpected exception importing solver GLOP:\n",
      "RuntimeError('Unrecognized new version of ortools (9.11.4210). Expected < 9.10.0. Please open a feature request on cvxpy to enable support for this version.')\n",
      "(CVXPY) Feb 09 08:08:26 PM: Encountered unexpected exception importing solver PDLP:\n",
      "RuntimeError('Unrecognized new version of ortools (9.11.4210). Expected < 9.10.0. Please open a feature request on cvxpy to enable support for this version.')\n"
     ]
    }
   ],
   "source": [
    "from funcoes import escorar_modelo\n",
    "import pandas as pd"
   ]
  },
  {
   "cell_type": "code",
   "execution_count": null,
   "metadata": {},
   "outputs": [],
   "source": [
    "#Base Train#\n",
    "train_selecionada = pd.read_csv(\"train_selecionada.csv\")"
   ]
  },
  {
   "cell_type": "code",
   "execution_count": 4,
   "metadata": {},
   "outputs": [],
   "source": [
    "#Ler base OOS\n",
    "test_oos = pd.read_csv(\"test_oos.csv\")\n",
    "test_oos = test_oos[train_selecionada.columns]"
   ]
  },
  {
   "cell_type": "code",
   "execution_count": 5,
   "metadata": {},
   "outputs": [],
   "source": [
    "#Ler a base OOT\n",
    "test_oot = pd.read_csv('teste_oot.csv')\n",
    "test_oot = test_oot[train_selecionada.columns]"
   ]
  },
  {
   "cell_type": "code",
   "execution_count": 6,
   "metadata": {},
   "outputs": [
    {
     "name": "stdout",
     "output_type": "stream",
     "text": [
      "Transformation Pipeline and Model Successfully Loaded\n",
      "Modelo 'tuned_lightgbm' carregado com sucesso!\n"
     ]
    }
   ],
   "source": [
    "#Escorando a base de OOT no modelo LightGBM\n",
    "test_oot_lightgbm = escorar_modelo(base_treino=train_selecionada, base_dados_escorar=test_oot, caminho_modelo='tuned_lightgbm')\n"
   ]
  },
  {
   "cell_type": "code",
   "execution_count": 7,
   "metadata": {},
   "outputs": [
    {
     "name": "stdout",
     "output_type": "stream",
     "text": [
      "Transformation Pipeline and Model Successfully Loaded\n",
      "Modelo 'tuned_lr' carregado com sucesso!\n"
     ]
    }
   ],
   "source": [
    "#Escorando a base de OOT no modelo Regressao\n",
    "test_oot_regressao = escorar_modelo(base_treino=train_selecionada, base_dados_escorar=test_oot, caminho_modelo='tuned_lr')"
   ]
  },
  {
   "cell_type": "code",
   "execution_count": 8,
   "metadata": {},
   "outputs": [],
   "source": [
    "#API"
   ]
  },
  {
   "cell_type": "code",
   "execution_count": 9,
   "metadata": {},
   "outputs": [],
   "source": [
    "#É bem comum utilizarmos modelos em API, que escora um Indivíduo por vez\n",
    "#Dada a devida simplicidade, seria algo assim:\n",
    "\n",
    "dados_chegada = {\n",
    "    \"nome_modelo\": [\"tuned_lightgbm\"], # [\"tuned_lightgbm\",\"tuned_lr\"]\n",
    "    \n",
    "    \"variaveis_modelo\": {\"id\": 7343.0,\"safra\": 201401.0,\"y\": 1.0,\"VAR_15\": 65.98,\"VAR_9\": 1000.0,\"VAR_54\": 1230.0,\"VAR_3\": 1.0,\"VAR_5\": 68.98,\"VAR_1\": 171.0,\n",
    "        \"VAR_28\": 0.0,\"VAR_60\": -0.231735369185606,\"VAR_45\": 306.87,\"VAR_6\": 282.0,\"VAR_58\": 261.0,\"VAR_38\": 175.09,\"VAR_32\": 0.090634138151029,\"VAR_19\": 0.0,\n",
    "        \"VAR_8\": 138.25,\"VAR_17\": 1000.0,\"VAR_33\": 0.0,\"VAR_30\": 1000.0,\"VAR_2\": 3.0,\"VAR_11\": 21.32,\"VAR_24\": 303.92,\"VAR_25\": 0.0,\"VAR_65\": 433.98,\n",
    "        \"VAR_59\": 257.16,\"VAR_53\": 2000.0,\"VAR_20\": 12.0,\"VAR_57\": 38.0,\"VAR_44\": 0.0,\"VAR_72\": 12.0,\"VAR_40\": 0.0,\"VAR_39\": 266.0,\"VAR_34\": 204.9,\n",
    "        \"VAR_52\": 65.98,\"VAR_13\": 69.21000000000001,\"VAR_35\": 63.98,\"VAR_76\": 319.71,\"VAR_7\": 47.29,\"VAR_4\": 2.0,\"VAR_64\": 1.0,\"VAR_22\": 0.0\n",
    "    }\n",
    "}\n",
    "\n",
    "dados_df = pd.DataFrame([dados_chegada['variaveis_modelo']])"
   ]
  },
  {
   "cell_type": "code",
   "execution_count": 10,
   "metadata": {},
   "outputs": [
    {
     "name": "stdout",
     "output_type": "stream",
     "text": [
      "Transformation Pipeline and Model Successfully Loaded\n",
      "Modelo 'tuned_lightgbm' carregado com sucesso!\n"
     ]
    }
   ],
   "source": [
    "escoragem_api = escorar_modelo(base_treino=train_selecionada, base_dados_escorar=dados_df, caminho_modelo=dados_chegada['nome_modelo'][0])"
   ]
  },
  {
   "cell_type": "code",
   "execution_count": 14,
   "metadata": {},
   "outputs": [],
   "source": [
    "escoragem_api_retorno = {\n",
    "    \"Score\": {\"score_0\": escoragem_api['score_0'][0]*1000,\n",
    "              \"score_1\": escoragem_api['score_1'][0]*1000\n",
    "              }\n",
    "    }"
   ]
  },
  {
   "cell_type": "code",
   "execution_count": 15,
   "metadata": {},
   "outputs": [
    {
     "data": {
      "text/plain": [
       "(80.19999999999999, 919.8)"
      ]
     },
     "execution_count": 15,
     "metadata": {},
     "output_type": "execute_result"
    }
   ],
   "source": [
    "#5% de ser bom e 94% de ser mau\n",
    "escoragem_api_retorno['Score']['score_0'],escoragem_api_retorno['Score']['score_1']"
   ]
  },
  {
   "cell_type": "code",
   "execution_count": 13,
   "metadata": {},
   "outputs": [],
   "source": [
    "#Em geral o Score de crédito é a probabilidade de bom!! 900 de score significa 90% de probabilidade de honrar com os pagamentos"
   ]
  },
  {
   "cell_type": "code",
   "execution_count": null,
   "metadata": {},
   "outputs": [],
   "source": []
  },
  {
   "cell_type": "code",
   "execution_count": null,
   "metadata": {},
   "outputs": [],
   "source": []
  }
 ],
 "metadata": {
  "kernelspec": {
   "display_name": "chalenge_pic_pay_env",
   "language": "python",
   "name": "python3"
  },
  "language_info": {
   "codemirror_mode": {
    "name": "ipython",
    "version": 3
   },
   "file_extension": ".py",
   "mimetype": "text/x-python",
   "name": "python",
   "nbconvert_exporter": "python",
   "pygments_lexer": "ipython3",
   "version": "3.11.9"
  }
 },
 "nbformat": 4,
 "nbformat_minor": 2
}
